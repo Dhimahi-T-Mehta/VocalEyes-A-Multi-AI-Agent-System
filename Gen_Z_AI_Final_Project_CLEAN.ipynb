{
 "cells": [
  {
   "cell_type": "markdown",
   "metadata": {
    "id": "yFJKR5KTU45w"
   },
   "source": [
    "# **Step 1: Installing Dependancies**"
   ]
  },
  {
   "cell_type": "code",
   "execution_count": null,
   "metadata": {
    "colab": {
     "base_uri": "https://localhost:8080/"
    },
    "id": "ljuBakyYVzyi",
    "outputId": "2257c2ad-57de-41c1-f178-1820e86e4018"
   },
   "outputs": [
    {
     "name": "stdout",
     "output_type": "stream",
     "text": [
      "\u001b[33mWARNING: Ignoring invalid distribution ~oogle-ai-generativelanguage (/usr/local/lib/python3.11/dist-packages)\u001b[0m\u001b[33m\n",
      "\u001b[0m\u001b[33mWARNING: Ignoring invalid distribution ~oogle-ai-generativelanguage (/usr/local/lib/python3.11/dist-packages)\u001b[0m\u001b[33m\n",
      "\u001b[0m\u001b[33mWARNING: Ignoring invalid distribution ~oogle-ai-generativelanguage (/usr/local/lib/python3.11/dist-packages)\u001b[0m\u001b[33m\n",
      "\u001b[0m\u001b[31mERROR: pip's dependency resolver does not currently take into account all the packages that are installed. This behaviour is the source of the following dependency conflicts.\n",
      "langchain-google-genai 2.1.9 requires google-ai-generativelanguage<0.7.0,>=0.6.18, but you have google-ai-generativelanguage 0.6.15 which is incompatible.\u001b[0m\u001b[31m\n",
      "\u001b[0m\u001b[33mWARNING: Ignoring invalid distribution ~oogle-ai-generativelanguage (/usr/local/lib/python3.11/dist-packages)\u001b[0m\u001b[33m\n",
      "\u001b[0m\u001b[31mERROR: pip's dependency resolver does not currently take into account all the packages that are installed. This behaviour is the source of the following dependency conflicts.\n",
      "google-generativeai 0.8.5 requires google-ai-generativelanguage==0.6.15, but you have google-ai-generativelanguage 0.6.18 which is incompatible.\u001b[0m\u001b[31m\n",
      "\u001b[0m\u001b[33mWARNING: Ignoring invalid distribution ~oogle-ai-generativelanguage (/usr/local/lib/python3.11/dist-packages)\u001b[0m\u001b[33m\n",
      "\u001b[0m\u001b[33mWARNING: Ignoring invalid distribution ~oogle-ai-generativelanguage (/usr/local/lib/python3.11/dist-packages)\u001b[0m\u001b[33m\n",
      "\u001b[0m\u001b[33mWARNING: Ignoring invalid distribution ~oogle-ai-generativelanguage (/usr/local/lib/python3.11/dist-packages)\u001b[0m\u001b[33m\n",
      "\u001b[0m\u001b[33mWARNING: Ignoring invalid distribution ~oogle-ai-generativelanguage (/usr/local/lib/python3.11/dist-packages)\u001b[0m\u001b[33m\n",
      "\u001b[0m\u001b[33mWARNING: Ignoring invalid distribution ~oogle-ai-generativelanguage (/usr/local/lib/python3.11/dist-packages)\u001b[0m\u001b[33m\n",
      "\u001b[0m\u001b[33mWARNING: Ignoring invalid distribution ~oogle-ai-generativelanguage (/usr/local/lib/python3.11/dist-packages)\u001b[0m\u001b[33m\n",
      "\u001b[0m\u001b[33mWARNING: Ignoring invalid distribution ~oogle-ai-generativelanguage (/usr/local/lib/python3.11/dist-packages)\u001b[0m\u001b[33m\n",
      "\u001b[0m\u001b[31mERROR: pip's dependency resolver does not currently take into account all the packages that are installed. This behaviour is the source of the following dependency conflicts.\n",
      "google-generativeai 0.8.5 requires google-ai-generativelanguage==0.6.15, but you have google-ai-generativelanguage 0.6.18 which is incompatible.\u001b[0m\u001b[31m\n",
      "\u001b[0m\u001b[33mWARNING: Ignoring invalid distribution ~oogle-ai-generativelanguage (/usr/local/lib/python3.11/dist-packages)\u001b[0m\u001b[33m\n",
      "\u001b[0m\u001b[33mWARNING: Ignoring invalid distribution ~oogle-ai-generativelanguage (/usr/local/lib/python3.11/dist-packages)\u001b[0m\u001b[33m\n",
      "\u001b[0m\u001b[33mWARNING: Ignoring invalid distribution ~oogle-ai-generativelanguage (/usr/local/lib/python3.11/dist-packages)\u001b[0m\u001b[33m\n",
      "\u001b[0m\u001b[33mWARNING: Ignoring invalid distribution ~oogle-ai-generativelanguage (/usr/local/lib/python3.11/dist-packages)\u001b[0m\u001b[33m\n",
      "\u001b[0m\u001b[33mWARNING: Ignoring invalid distribution ~oogle-ai-generativelanguage (/usr/local/lib/python3.11/dist-packages)\u001b[0m\u001b[33m\n",
      "\u001b[0m\u001b[33mWARNING: Ignoring invalid distribution ~oogle-ai-generativelanguage (/usr/local/lib/python3.11/dist-packages)\u001b[0m\u001b[33m\n",
      "\u001b[0m\u001b[33mWARNING: Ignoring invalid distribution ~oogle-ai-generativelanguage (/usr/local/lib/python3.11/dist-packages)\u001b[0m\u001b[33m\n",
      "\u001b[0m\u001b[33mWARNING: Ignoring invalid distribution ~oogle-ai-generativelanguage (/usr/local/lib/python3.11/dist-packages)\u001b[0m\u001b[33m\n",
      "\u001b[0m\u001b[33mWARNING: Ignoring invalid distribution ~oogle-ai-generativelanguage (/usr/local/lib/python3.11/dist-packages)\u001b[0m\u001b[33m\n",
      "\u001b[0m"
     ]
    }
   ],
   "source": [
    "!pip install -qU google-generativeai\n",
    "!pip install -qU google-ai-generativelanguage\n",
    "!pip install -qU langchain\n",
    "!pip install -qU langchain-google-genai\n",
    "!pip install -qU murf\n",
    "!pip install -qU pdfplumber\n",
    "!pip install -qU pdfminer.six"
   ]
  },
  {
   "cell_type": "markdown",
   "metadata": {
    "id": "lqKucZNaYuRt"
   },
   "source": [
    "# **Step 2: Importing Libraries**"
   ]
  },
  {
   "cell_type": "code",
   "execution_count": null,
   "metadata": {
    "id": "Li8rDxypZM5o"
   },
   "outputs": [],
   "source": [
    "import os\n",
    "import base64\n",
    "import mimetypes\n",
    "import ipywidgets as widgets\n",
    "from IPython.display import display, Audio, HTML\n",
    "from google.colab import userdata, auth\n",
    "from getpass import getpass\n",
    "import google.generativeai as genai\n",
    "from langchain_google_genai import ChatGoogleGenerativeAI\n",
    "from langchain_core.messages import HumanMessage\n",
    "from murf import Murf\n",
    "import requests"
   ]
  },
  {
   "cell_type": "markdown",
   "metadata": {
    "id": "4QyVhcJlZSIN"
   },
   "source": [
    "# **Step 3: Setting up API Key & Environment Variable**"
   ]
  },
  {
   "cell_type": "code",
   "execution_count": null,
   "metadata": {
    "colab": {
     "base_uri": "https://localhost:8080/"
    },
    "id": "kT8jR1ePZZpW",
    "outputId": "0c1f22f6-74a0-4fc7-cb78-893edb9688a0"
   },
   "outputs": [
    {
     "name": "stdout",
     "output_type": "stream",
     "text": [
      "🔑 Enter your Google API Key: ··········\n",
      "🔊 Enter your Murf API Key: ··········\n"
     ]
    }
   ],
   "source": [
    "if \"GOOGLE_API_KEY\" not in os.environ:\n",
    "    os.environ['GOOGLE_API_KEY'] = getpass(\"🔑 Enter your Google API Key: \")\n",
    "\n",
    "if \"MURF_API_KEY\" not in os.environ:\n",
    "    os.environ['MURF_API_KEY'] = getpass(\"🔊 Enter your Murf API Key: \")"
   ]
  },
  {
   "cell_type": "markdown",
   "metadata": {
    "id": "i2q_CxAPZhV1"
   },
   "source": [
    "# **Step 4: Initalizing the Agents**"
   ]
  },
  {
   "cell_type": "code",
   "execution_count": null,
   "metadata": {
    "id": "Np7C6TgGZstp"
   },
   "outputs": [],
   "source": [
    "llm = ChatGoogleGenerativeAI(model=\"models/gemini-1.5-flash-latest\", temperature=0.8, google_api_key=os.environ['GOOGLE_API_KEY'])\n",
    "murf_client = Murf(api_key=os.environ[\"MURF_API_KEY\"])"
   ]
  },
  {
   "cell_type": "markdown",
   "metadata": {
    "id": "bSenDh1yaJWU"
   },
   "source": [
    "# **Step 5: Creating UI Components**"
   ]
  },
  {
   "cell_type": "code",
   "execution_count": null,
   "metadata": {
    "id": "KVJlEuXWaSyA"
   },
   "outputs": [],
   "source": [
    "upload_widget = widgets.FileUpload(\n",
    "    accept='',\n",
    "    multiple=False,\n",
    "    description=\"📤 Upload File\",\n",
    "    layout=widgets.Layout(width='50%', height='60px')\n",
    ")\n",
    "upload_widget.style.button_color = '#ff6600'\n",
    "upload_widget.style.font_color = 'black'\n",
    "\n",
    "\n",
    "submit_button = widgets.Button(\n",
    "    description=\"📄 Analyze File\",\n",
    "    button_style='primary',\n",
    "    icon='search',\n",
    "    layout=widgets.Layout(width='200px')\n",
    ")\n",
    "\n",
    "tts_button = widgets.Button(\n",
    "    description=\"🔊 Text to Speech\",\n",
    "    button_style='success',\n",
    "    icon='volume-up',\n",
    "    disabled=True,\n",
    "    layout=widgets.Layout(width='200px')\n",
    ")\n",
    "\n",
    "black_style = widgets.Layout(\n",
    "    border='solid 2px white',\n",
    "    background_color='black',\n",
    "    color='white',\n",
    "    padding='10px',\n",
    "    width='auto'\n",
    ")\n",
    "\n",
    "output_area = widgets.Output(layout=black_style)\n",
    "audio_area = widgets.Output(layout=black_style)"
   ]
  },
  {
   "cell_type": "markdown",
   "metadata": {
    "id": "weN6zNkgahv_"
   },
   "source": [
    "# **Agent 1: Processes Uploaded File**"
   ]
  },
  {
   "cell_type": "code",
   "execution_count": null,
   "metadata": {
    "id": "RRsY1IvIbYGy"
   },
   "outputs": [],
   "source": [
    "def handle_analysis(btn):\n",
    "    output_area.clear_output()\n",
    "    audio_area.clear_output()\n",
    "    tts_button.disabled = True\n",
    "\n",
    "    if not upload_widget.value:\n",
    "        with output_area:\n",
    "            print(\"Please upload a file first.\")\n",
    "        return\n",
    "\n",
    "    file_info = next(iter(upload_widget.value.values()))\n",
    "    filename = file_info['metadata']['name']\n",
    "    file_bytes = file_info['content']\n",
    "    mime_type, _ = mimetypes.guess_type(filename)\n",
    "    if mime_type is None:\n",
    "        mime_type = \"application/octet-stream\"\n",
    "\n",
    "    try:\n",
    "        with output_area:\n",
    "            print(f\"📄 Processing `{filename}` (type: {mime_type})\")\n",
    "\n",
    "        if mime_type.startswith(\"text/\") or \"pdf\" in mime_type or \"word\" in mime_type:\n",
    "            if \"pdf\" in mime_type:\n",
    "                import pdfplumber, io\n",
    "                with pdfplumber.open(io.BytesIO(file_bytes)) as pdf:\n",
    "                    extracted_text_local = \"\\n\".join(page.extract_text() or \"\" for page in pdf.pages)\n",
    "                prompt = f\"Here is the extracted text from the document '{filename}'. Simply, print the full raw text from it.\\n\\n{extracted_text_local}\"\n",
    "                parts = [HumanMessage(content=prompt)]\n",
    "            else:\n",
    "                prompt = f\"Extract full raw text from the document named '{filename}'.\"\n",
    "                parts = [\n",
    "                    HumanMessage(content=prompt),\n",
    "                    HumanMessage(content=[{\"mime_type\": mime_type, \"data\": file_bytes}])\n",
    "                ]\n",
    "\n",
    "        elif mime_type.startswith(\"image/\") or mime_type == \"image/gif\":\n",
    "            prompt = f\"Analyze the visual content of the image '{filename}'.\"\n",
    "            base64_image = base64.b64encode(file_bytes).decode('utf-8')\n",
    "            parts = [\n",
    "                HumanMessage(content=prompt),\n",
    "                HumanMessage(content=[{\n",
    "                    \"type\": \"image_url\",\n",
    "                    \"image_url\": {\"url\": f\"data:{mime_type};base64,{base64_image}\"}\n",
    "                }])\n",
    "            ]\n",
    "        else:\n",
    "            with output_area:\n",
    "                print(f\"Unsupported file type: `{mime_type}`\")\n",
    "            return\n",
    "\n",
    "        response = llm.invoke(parts)\n",
    "        global extracted_text\n",
    "        extracted_text = response.content\n",
    "\n",
    "        with output_area:\n",
    "            print(\"\\n\")\n",
    "            print(extracted_text)\n",
    "\n",
    "        tts_button.disabled = False\n",
    "\n",
    "    except Exception as e:\n",
    "        with output_area:\n",
    "            print(f\"Error during processing: {e}\")"
   ]
  },
  {
   "cell_type": "markdown",
   "metadata": {
    "id": "0o2SuS6xbdmx"
   },
   "source": [
    "# **Agent 2: Convert Agent 1 Output to Speech**"
   ]
  },
  {
   "cell_type": "code",
   "execution_count": null,
   "metadata": {
    "id": "MRufS-5Wbtc6"
   },
   "outputs": [],
   "source": [
    "def handle_tts(btn):\n",
    "    audio_area.clear_output()\n",
    "    try:\n",
    "        res = murf_client.text_to_speech.generate(\n",
    "            text=extracted_text,\n",
    "            voice_id=\"en-IN-rohan\",\n",
    "            style=\"Conversational\",\n",
    "            format=\"MP3\",\n",
    "            variation=3\n",
    "        )\n",
    "        audio_url = res.audio_file\n",
    "        if audio_url:\n",
    "            response = requests.get(audio_url)\n",
    "            response.raise_for_status()\n",
    "            with open(\"output.mp3\", \"wb\") as f:\n",
    "                f.write(response.content)\n",
    "            with audio_area:\n",
    "                display(Audio(\"output.mp3\"))\n",
    "        else:\n",
    "            with audio_area:\n",
    "                print(\"Failed to generate audio.\")\n",
    "    except Exception as e:\n",
    "        with audio_area:\n",
    "            print(f\"TTS Error: {e}\")"
   ]
  },
  {
   "cell_type": "markdown",
   "metadata": {
    "id": "rpIgLsDjb80c"
   },
   "source": [
    "# **Step 6: Customizing UI & Final Output Layout**"
   ]
  },
  {
   "cell_type": "code",
   "execution_count": null,
   "metadata": {
    "colab": {
     "base_uri": "https://localhost:8080/",
     "height": 1000,
     "referenced_widgets": [
      "5329a8e3dd974d438a5ad02e90a9e60b",
      "c88118f3bedd4f85a1edd97277a43a6a",
      "3ee90a52282c44488ea34ca719b2c416",
      "c3012c044f1d441a92051cf5841846b2",
      "2863a419a17749dfa85b1e4930c81347",
      "a4f7166a298f44efbf404bd3945e911d",
      "87896981965f438f81e3b17bd9510815",
      "6666c818f093445da6d88325b15f4530",
      "a35b3d05e7164acb9378fe834932c7b1",
      "4b2073277b864672a431f2caee0e6fb7",
      "610ba5dac48b4b799b9ef87b3f9cc48a",
      "b0b0d72d386e4c7599f5bf42794ce90b",
      "9cb07f98613443bb9f4e953cb986be11",
      "97e8ce5a7bef43f78855ad26a74f42b7",
      "505de699403d411db2bdd217b8ba2b7b",
      "679ea27b273646e8a954fe7a3f21e16a",
      "5bed2e1678b746db985dca7c2fabff36",
      "55e6945ba1944de2beef9f965695d586",
      "348becfc547b4b51a101c766a245ce9c",
      "3331bdde56b64db49fc75ecaa8ad1187",
      "094c156b782b405d9643c690f8fa5e84",
      "7d2fd794d3e94c099c0894dc95e2d8d5",
      "6fb986d71ae7486bb1f3b539b76daadd",
      "abe8ad72c249439ba091e8db5af9b0c3"
     ]
    },
    "id": "LFEQIXUmck6_",
    "outputId": "715e3f4e-14e0-4b3b-bf90-b7787c3bcc77"
   },
   "outputs": [
    {
     "data": {
      "text/html": [
       "\n",
       "    <style>\n",
       "        body {\n",
       "            background-color: black !important;\n",
       "            color: white !important;\n",
       "        }\n",
       "        .widget-label {\n",
       "            color: white !important;\n",
       "        }\n",
       "        .widget-button {\n",
       "            margin: 10px;\n",
       "        }\n",
       "    </style>\n",
       "    <div style=\"text-align:center; padding:20px; background-color:black; color:white; border-radius:10px;\">\n",
       "        <h2>👁️‍🗨️ VocalEyes <br> Hear the World, See the Possibilities</h2>\n",
       "        <p style=\"font-size:16px;\"><br>Upload a document or image ➜ Analyze with Our AI Agent ➜ Convert Result to Audio</p>\n",
       "        <p style=\"font-size:14px;\"><br>Supported File Types: .txt .pdf .docx .jpg .jpeg .png .gif  <br> Maximum Upload size: ~100 MB</p>\n",
       "    </div>\n"
      ],
      "text/plain": [
       "<IPython.core.display.HTML object>"
      ]
     },
     "metadata": {},
     "output_type": "display_data"
    },
    {
     "data": {
      "application/vnd.jupyter.widget-view+json": {
       "model_id": "5329a8e3dd974d438a5ad02e90a9e60b",
       "version_major": 2,
       "version_minor": 0
      },
      "text/plain": [
       "VBox(children=(HBox(children=(FileUpload(value={}, description='📤 Upload File', layout=Layout(height='60px', w…"
      ]
     },
     "metadata": {},
     "output_type": "display_data"
    }
   ],
   "source": [
    "submit_button.on_click(handle_analysis)\n",
    "tts_button.on_click(handle_tts)\n",
    "\n",
    "display(HTML(\"\"\"\n",
    "    <style>\n",
    "        body {\n",
    "            background-color: black !important;\n",
    "            color: white !important;\n",
    "        }\n",
    "        .widget-label {\n",
    "            color: white !important;\n",
    "        }\n",
    "        .widget-button {\n",
    "            margin: 10px;\n",
    "        }\n",
    "    </style>\n",
    "    <div style=\"text-align:center; padding:20px; background-color:black; color:white; border-radius:10px;\">\n",
    "        <h2>👁️‍🗨️ VocalEyes <br> Hear the World, See the Possibilities</h2>\n",
    "        <p style=\"font-size:16px;\"><br>Upload a document or image ➜ Analyze with Our AI Agent ➜ Convert Result to Audio</p>\n",
    "        <p style=\"font-size:14px;\"><br>Supported File Types: .txt .pdf .docx .jpg .jpeg .png .gif  <br> Maximum Upload size: ~100 MB</p>\n",
    "    </div>\n",
    "\"\"\"))\n",
    "display(widgets.VBox([\n",
    "    widgets.HBox([upload_widget], layout=widgets.Layout(justify_content='center', padding='10px')),\n",
    "    widgets.HBox([submit_button, tts_button], layout=widgets.Layout(justify_content='center', padding='10px')),\n",
    "    widgets.Label(value=\"📃 Text Output\", style={'description_width': 'initial'}),\n",
    "    output_area,\n",
    "    widgets.Label(value=\"🎧 Audio Output\", style={'description_width': 'initial'}),\n",
    "    audio_area\n",
    "]))"
   ]
  }
 ],
 "metadata": {
  "colab": {
   "provenance": []
  },
  "kernelspec": {
   "display_name": "Python 3",
   "name": "python3"
  },
  "language_info": {
   "name": "python"
  }
 },
 "nbformat": 4,
 "nbformat_minor": 0
}
